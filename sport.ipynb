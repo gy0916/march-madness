{
 "cells": [
  {
   "cell_type": "code",
   "execution_count": 3,
   "metadata": {},
   "outputs": [],
   "source": [
    "import pandas as pd\n",
    "import numpy as np\n",
    "from sklearn.linear_model import LogisticRegression\n",
    "from sklearn.model_selection import train_test_split\n",
    "from sklearn.ensemble import RandomForestClassifier\n"
   ]
  },
  {
   "cell_type": "code",
   "execution_count": 6,
   "metadata": {},
   "outputs": [],
   "source": [
    "df = pd.read_csv('NCAA.csv')\n",
    "df['result'] = 1"
   ]
  },
  {
   "cell_type": "code",
   "execution_count": 5,
   "metadata": {},
   "outputs": [],
   "source": [
    "def fun(item):\n",
    "    if item < 556:\n",
    "        return 0\n",
    "    else:\n",
    "        return 1\n",
    "for group,frame in df.groupby(fun):\n",
    "    if group == 1:\n",
    "        df_lose = pd.DataFrame(frame)\n",
    "    if group == 0:\n",
    "        df_win = pd.DataFrame(frame)\n"
   ]
  },
  {
   "cell_type": "code",
   "execution_count": 7,
   "metadata": {},
   "outputs": [
    {
     "data": {
      "text/html": [
       "<div>\n",
       "<style scoped>\n",
       "    .dataframe tbody tr th:only-of-type {\n",
       "        vertical-align: middle;\n",
       "    }\n",
       "\n",
       "    .dataframe tbody tr th {\n",
       "        vertical-align: top;\n",
       "    }\n",
       "\n",
       "    .dataframe thead th {\n",
       "        text-align: right;\n",
       "    }\n",
       "</style>\n",
       "<table border=\"1\" class=\"dataframe\">\n",
       "  <thead>\n",
       "    <tr style=\"text-align: right;\">\n",
       "      <th></th>\n",
       "      <th>team1_id</th>\n",
       "      <th>team1_score</th>\n",
       "      <th>team2_id</th>\n",
       "      <th>team2_score</th>\n",
       "      <th>WLoc</th>\n",
       "      <th>num_ot</th>\n",
       "      <th>team1_position</th>\n",
       "      <th>team2_position</th>\n",
       "      <th>team1_seed</th>\n",
       "      <th>team2_seed</th>\n",
       "      <th>...</th>\n",
       "      <th>team1_de</th>\n",
       "      <th>team1_adjde</th>\n",
       "      <th>team2_tempo</th>\n",
       "      <th>team2_adjtempo</th>\n",
       "      <th>team2_oe</th>\n",
       "      <th>team2_adjoe</th>\n",
       "      <th>team2_de</th>\n",
       "      <th>team2_adjde</th>\n",
       "      <th>game_id</th>\n",
       "      <th>result</th>\n",
       "    </tr>\n",
       "  </thead>\n",
       "  <tbody>\n",
       "    <tr>\n",
       "      <th>0</th>\n",
       "      <td>1373</td>\n",
       "      <td>81</td>\n",
       "      <td>1108</td>\n",
       "      <td>77</td>\n",
       "      <td>N</td>\n",
       "      <td>0</td>\n",
       "      <td>W16b</td>\n",
       "      <td>W16a</td>\n",
       "      <td>16</td>\n",
       "      <td>16</td>\n",
       "      <td>...</td>\n",
       "      <td>96.3688</td>\n",
       "      <td>99.6885</td>\n",
       "      <td>76.0664</td>\n",
       "      <td>73.8504</td>\n",
       "      <td>103.4213</td>\n",
       "      <td>99.8665</td>\n",
       "      <td>99.6370</td>\n",
       "      <td>106.4500</td>\n",
       "      <td>2002-1373-1108</td>\n",
       "      <td>1</td>\n",
       "    </tr>\n",
       "    <tr>\n",
       "      <th>1</th>\n",
       "      <td>1104</td>\n",
       "      <td>86</td>\n",
       "      <td>1194</td>\n",
       "      <td>78</td>\n",
       "      <td>N</td>\n",
       "      <td>0</td>\n",
       "      <td>Y02</td>\n",
       "      <td>Y15</td>\n",
       "      <td>2</td>\n",
       "      <td>15</td>\n",
       "      <td>...</td>\n",
       "      <td>95.2313</td>\n",
       "      <td>93.8770</td>\n",
       "      <td>71.2357</td>\n",
       "      <td>71.2446</td>\n",
       "      <td>100.2897</td>\n",
       "      <td>96.8669</td>\n",
       "      <td>98.4183</td>\n",
       "      <td>99.9263</td>\n",
       "      <td>2002-1104-1194</td>\n",
       "      <td>1</td>\n",
       "    </tr>\n",
       "    <tr>\n",
       "      <th>2</th>\n",
       "      <td>1112</td>\n",
       "      <td>86</td>\n",
       "      <td>1364</td>\n",
       "      <td>81</td>\n",
       "      <td>N</td>\n",
       "      <td>0</td>\n",
       "      <td>Z03</td>\n",
       "      <td>Z14</td>\n",
       "      <td>3</td>\n",
       "      <td>14</td>\n",
       "      <td>...</td>\n",
       "      <td>104.0411</td>\n",
       "      <td>96.9262</td>\n",
       "      <td>63.2345</td>\n",
       "      <td>64.7948</td>\n",
       "      <td>105.2163</td>\n",
       "      <td>105.4534</td>\n",
       "      <td>96.0965</td>\n",
       "      <td>97.6704</td>\n",
       "      <td>2002-1112-1364</td>\n",
       "      <td>1</td>\n",
       "    </tr>\n",
       "    <tr>\n",
       "      <th>3</th>\n",
       "      <td>1181</td>\n",
       "      <td>84</td>\n",
       "      <td>1457</td>\n",
       "      <td>37</td>\n",
       "      <td>N</td>\n",
       "      <td>0</td>\n",
       "      <td>Y01</td>\n",
       "      <td>Y16</td>\n",
       "      <td>1</td>\n",
       "      <td>16</td>\n",
       "      <td>...</td>\n",
       "      <td>90.2544</td>\n",
       "      <td>87.7504</td>\n",
       "      <td>68.2128</td>\n",
       "      <td>67.4639</td>\n",
       "      <td>100.2384</td>\n",
       "      <td>95.3632</td>\n",
       "      <td>94.6587</td>\n",
       "      <td>99.9754</td>\n",
       "      <td>2002-1181-1457</td>\n",
       "      <td>1</td>\n",
       "    </tr>\n",
       "    <tr>\n",
       "      <th>4</th>\n",
       "      <td>1231</td>\n",
       "      <td>75</td>\n",
       "      <td>1428</td>\n",
       "      <td>56</td>\n",
       "      <td>N</td>\n",
       "      <td>0</td>\n",
       "      <td>Y05</td>\n",
       "      <td>Y12</td>\n",
       "      <td>5</td>\n",
       "      <td>12</td>\n",
       "      <td>...</td>\n",
       "      <td>94.4987</td>\n",
       "      <td>89.9224</td>\n",
       "      <td>62.6181</td>\n",
       "      <td>63.3547</td>\n",
       "      <td>107.7123</td>\n",
       "      <td>108.6231</td>\n",
       "      <td>97.4318</td>\n",
       "      <td>95.6459</td>\n",
       "      <td>2002-1231-1428</td>\n",
       "      <td>1</td>\n",
       "    </tr>\n",
       "  </tbody>\n",
       "</table>\n",
       "<p>5 rows × 105 columns</p>\n",
       "</div>"
      ],
      "text/plain": [
       "   team1_id  team1_score  team2_id  team2_score WLoc  num_ot team1_position  \\\n",
       "0      1373           81      1108           77    N       0           W16b   \n",
       "1      1104           86      1194           78    N       0            Y02   \n",
       "2      1112           86      1364           81    N       0            Z03   \n",
       "3      1181           84      1457           37    N       0            Y01   \n",
       "4      1231           75      1428           56    N       0            Y05   \n",
       "\n",
       "  team2_position  team1_seed  team2_seed   ...    team1_de  team1_adjde  \\\n",
       "0           W16a          16          16   ...     96.3688      99.6885   \n",
       "1            Y15           2          15   ...     95.2313      93.8770   \n",
       "2            Z14           3          14   ...    104.0411      96.9262   \n",
       "3            Y16           1          16   ...     90.2544      87.7504   \n",
       "4            Y12           5          12   ...     94.4987      89.9224   \n",
       "\n",
       "  team2_tempo team2_adjtempo  team2_oe team2_adjoe team2_de  team2_adjde  \\\n",
       "0     76.0664        73.8504  103.4213     99.8665  99.6370     106.4500   \n",
       "1     71.2357        71.2446  100.2897     96.8669  98.4183      99.9263   \n",
       "2     63.2345        64.7948  105.2163    105.4534  96.0965      97.6704   \n",
       "3     68.2128        67.4639  100.2384     95.3632  94.6587      99.9754   \n",
       "4     62.6181        63.3547  107.7123    108.6231  97.4318      95.6459   \n",
       "\n",
       "          game_id  result  \n",
       "0  2002-1373-1108       1  \n",
       "1  2002-1104-1194       1  \n",
       "2  2002-1112-1364       1  \n",
       "3  2002-1181-1457       1  \n",
       "4  2002-1231-1428       1  \n",
       "\n",
       "[5 rows x 105 columns]"
      ]
     },
     "execution_count": 7,
     "metadata": {},
     "output_type": "execute_result"
    }
   ],
   "source": [
    "new_df_lose = pd.read_csv('ncaa_lose.csv').set_index('Unnamed: 0')\n",
    "for i in np.arange(556,1112):\n",
    "    gameid = new_df_lose.loc[i,'game_id'].split(\"-\")\n",
    "    gameid_n = gameid[0]+'-'+gameid[2]+'-'+gameid[1]\n",
    "    new_df_lose.loc[i,'game_id'] = gameid_n\n",
    "df = pd.concat([df_win,new_df_lose],axis= 0, sort=False)\n",
    "df.head()"
   ]
  },
  {
   "cell_type": "code",
   "execution_count": 8,
   "metadata": {},
   "outputs": [],
   "source": [
    "team_list = list()\n",
    "for i in df.team1_id:\n",
    "    if i in team_list:\n",
    "        continue\n",
    "    else:\n",
    "        team_list.append(i)\n",
    "for i in df.team2_id:\n",
    "    if i in team_list:\n",
    "        continue\n",
    "    else:\n",
    "        team_list.append(i)\n"
   ]
  },
  {
   "cell_type": "code",
   "execution_count": 9,
   "metadata": {},
   "outputs": [
    {
     "name": "stdout",
     "output_type": "stream",
     "text": [
      "249\n"
     ]
    }
   ],
   "source": [
    "teamname_list = list()\n",
    "for i in df.team1_teamname:\n",
    "    if i in teamname_list:\n",
    "        continue\n",
    "    else:\n",
    "        teamname_list.append(i)\n",
    "for i in df.team2_teamname:\n",
    "    if i in teamname_list:\n",
    "        continue\n",
    "    else:\n",
    "        teamname_list.append(i)\n",
    "#print (teamname_list)\n",
    "print (len(teamname_list))"
   ]
  },
  {
   "cell_type": "code",
   "execution_count": 10,
   "metadata": {},
   "outputs": [
    {
     "data": {
      "text/html": [
       "<div>\n",
       "<style scoped>\n",
       "    .dataframe tbody tr th:only-of-type {\n",
       "        vertical-align: middle;\n",
       "    }\n",
       "\n",
       "    .dataframe tbody tr th {\n",
       "        vertical-align: top;\n",
       "    }\n",
       "\n",
       "    .dataframe thead th {\n",
       "        text-align: right;\n",
       "    }\n",
       "</style>\n",
       "<table border=\"1\" class=\"dataframe\">\n",
       "  <thead>\n",
       "    <tr style=\"text-align: right;\">\n",
       "      <th></th>\n",
       "      <th>id</th>\n",
       "      <th>teamname</th>\n",
       "    </tr>\n",
       "  </thead>\n",
       "  <tbody>\n",
       "    <tr>\n",
       "      <th>0</th>\n",
       "      <td>1373</td>\n",
       "      <td>Siena</td>\n",
       "    </tr>\n",
       "    <tr>\n",
       "      <th>1</th>\n",
       "      <td>1104</td>\n",
       "      <td>Alabama</td>\n",
       "    </tr>\n",
       "    <tr>\n",
       "      <th>2</th>\n",
       "      <td>1112</td>\n",
       "      <td>Arizona</td>\n",
       "    </tr>\n",
       "    <tr>\n",
       "      <th>3</th>\n",
       "      <td>1181</td>\n",
       "      <td>Duke</td>\n",
       "    </tr>\n",
       "    <tr>\n",
       "      <th>4</th>\n",
       "      <td>1231</td>\n",
       "      <td>Indiana</td>\n",
       "    </tr>\n",
       "  </tbody>\n",
       "</table>\n",
       "</div>"
      ],
      "text/plain": [
       "     id teamname\n",
       "0  1373    Siena\n",
       "1  1104  Alabama\n",
       "2  1112  Arizona\n",
       "3  1181     Duke\n",
       "4  1231  Indiana"
      ]
     },
     "execution_count": 10,
     "metadata": {},
     "output_type": "execute_result"
    }
   ],
   "source": [
    "team_id = dict()\n",
    "for i,o in zip(df.team1_id,df.team1_teamname):\n",
    "    team_id[i] = o\n",
    "for i,o in zip(df.team2_id,df.team2_teamname):\n",
    "    team_id[i] = o\n",
    "team_ID = pd.Series(data = team_id)\n",
    "team_ID = pd.DataFrame({'id':team_ID.index, 'teamname':team_ID.values})\n",
    "team_ID.head()"
   ]
  },
  {
   "cell_type": "code",
   "execution_count": 11,
   "metadata": {},
   "outputs": [],
   "source": [
    "result=[]\n",
    "for i in range(len(df)):\n",
    "    if df.iloc[i]['team1_score'] > df.iloc[i]['team2_score']:\n",
    "        result.append(1)\n",
    "    elif df.iloc[i]['team1_score'] < df.iloc[i]['team2_score']:\n",
    "        result.append(0)\n",
    "    else:\n",
    "        result.append(2)"
   ]
  },
  {
   "cell_type": "code",
   "execution_count": 12,
   "metadata": {},
   "outputs": [],
   "source": [
    "gamesnum = dict()\n",
    "for i in teamname_list:\n",
    "    num = df[df.team1_teamname == i].count()[1]\n",
    "    gamesnum[i] = num\n",
    "for i in teamname_list:\n",
    "    num = df[df.team2_teamname == i].count()[1]\n",
    "    gamesnum[i] += num"
   ]
  },
  {
   "cell_type": "code",
   "execution_count": 13,
   "metadata": {},
   "outputs": [],
   "source": [
    "#calculate avg feature\n",
    "def avg_feature(feature):\n",
    "    df = pd.read_csv('NCAA.csv')\n",
    "    feature1 = dict()\n",
    "    feature2 = dict()\n",
    "    for i in teamname_list:\n",
    "        total = df[df.team1_teamname == i]['team1_'+feature].sum()    \n",
    "        feature1[i] = total\n",
    "    for i in teamname_list:\n",
    "        total = df[df.team2_teamname == i]['team2_'+feature].sum()    \n",
    "        feature1[i] += total\n",
    "    for x,y in feature1.items():\n",
    "        feature2[x] = y/gamesnum[x]\n",
    "    return feature2"
   ]
  },
  {
   "cell_type": "code",
   "execution_count": 15,
   "metadata": {},
   "outputs": [],
   "source": [
    "#calculate average score per team\n",
    "avg_score = avg_feature('score')\n",
    "#avg 2 point\n",
    "avg_2pt = avg_feature('fg2pct')\n",
    "#avg 3 point rate\n",
    "avg_3pt = avg_feature('fg3pct')\n",
    "#Shooting percentage on free throws\n",
    "avg_ft = avg_feature('ftpct')\n",
    "#Points scored per 100 offensive possessions.\n",
    "avg_oe =avg_feature('oe')\n",
    "#Percentage of field goals that were preceded by an assist.\n",
    "avg_arate = avg_feature('arate')\n",
    "#Blocked shots divided by opponents 2 point field goal attempts.\n",
    "avg_blk = avg_feature('blockpct')\n",
    "#Steals divided by defensive possessions\n",
    "avg_stl = avg_feature('stlrate')\n",
    "#Opponent’s shooting percentage on 2 point field goals.\n",
    "opp_2pt = avg_feature('oppfg2pct')\n",
    "#Opponent’s shooting percentage on 3 point field goals. \n",
    "opp_3pt = avg_feature('oppfg3pct')"
   ]
  },
  {
   "cell_type": "code",
   "execution_count": 16,
   "metadata": {},
   "outputs": [],
   "source": [
    "#create team information dataframe\n",
    "team_info = pd.DataFrame.from_dict(avg_score, orient = 'index', columns = [\"avg_score\"])\n",
    "team_info.reset_index(level=0, inplace=True)\n",
    "team_info.columns = ['teamname','avg_score']\n"
   ]
  },
  {
   "cell_type": "code",
   "execution_count": 17,
   "metadata": {},
   "outputs": [],
   "source": [
    "#map features into dataframe\n",
    "team_info['avg_3pt'] = team_info['teamname'].map(avg_3pt)\n",
    "team_info['avg_2pt'] = team_info['teamname'].map(avg_2pt)\n",
    "team_info['avg_ft'] = team_info['teamname'].map(avg_ft)\n",
    "team_info['avg_blk'] = team_info['teamname'].map(avg_blk)\n",
    "team_info['avg_stl'] = team_info['teamname'].map(avg_stl)\n",
    "team_info['avg_assrate'] = team_info['teamname'].map(avg_arate)\n",
    "team_info['avg_oe'] = team_info['teamname'].map(avg_oe)\n",
    "team_info['opp_2pt'] = team_info['teamname'].map(opp_2pt)\n",
    "team_info['opp_3pt'] = team_info['teamname'].map(opp_3pt)\n"
   ]
  },
  {
   "cell_type": "code",
   "execution_count": 18,
   "metadata": {},
   "outputs": [
    {
     "data": {
      "text/html": [
       "<div>\n",
       "<style scoped>\n",
       "    .dataframe tbody tr th:only-of-type {\n",
       "        vertical-align: middle;\n",
       "    }\n",
       "\n",
       "    .dataframe tbody tr th {\n",
       "        vertical-align: top;\n",
       "    }\n",
       "\n",
       "    .dataframe thead th {\n",
       "        text-align: right;\n",
       "    }\n",
       "</style>\n",
       "<table border=\"1\" class=\"dataframe\">\n",
       "  <thead>\n",
       "    <tr style=\"text-align: right;\">\n",
       "      <th></th>\n",
       "      <th>teamname</th>\n",
       "      <th>avg_score</th>\n",
       "      <th>avg_3pt</th>\n",
       "      <th>avg_2pt</th>\n",
       "      <th>avg_ft</th>\n",
       "      <th>avg_blk</th>\n",
       "      <th>avg_stl</th>\n",
       "      <th>avg_assrate</th>\n",
       "      <th>avg_oe</th>\n",
       "      <th>opp_2pt</th>\n",
       "      <th>opp_3pt</th>\n",
       "      <th>id</th>\n",
       "    </tr>\n",
       "  </thead>\n",
       "  <tbody>\n",
       "    <tr>\n",
       "      <th>0</th>\n",
       "      <td>Air Force</td>\n",
       "      <td>60.500000</td>\n",
       "      <td>38.995300</td>\n",
       "      <td>57.903900</td>\n",
       "      <td>73.003700</td>\n",
       "      <td>7.591700</td>\n",
       "      <td>0.142800</td>\n",
       "      <td>65.432400</td>\n",
       "      <td>111.359150</td>\n",
       "      <td>49.899600</td>\n",
       "      <td>30.836200</td>\n",
       "      <td>1102</td>\n",
       "    </tr>\n",
       "    <tr>\n",
       "      <th>1</th>\n",
       "      <td>Akron</td>\n",
       "      <td>54.000000</td>\n",
       "      <td>34.008833</td>\n",
       "      <td>48.686233</td>\n",
       "      <td>68.695567</td>\n",
       "      <td>9.945933</td>\n",
       "      <td>0.103500</td>\n",
       "      <td>56.494600</td>\n",
       "      <td>103.632200</td>\n",
       "      <td>44.991133</td>\n",
       "      <td>31.390967</td>\n",
       "      <td>1103</td>\n",
       "    </tr>\n",
       "    <tr>\n",
       "      <th>2</th>\n",
       "      <td>Alabama</td>\n",
       "      <td>70.384615</td>\n",
       "      <td>34.348588</td>\n",
       "      <td>50.447966</td>\n",
       "      <td>70.849239</td>\n",
       "      <td>10.984112</td>\n",
       "      <td>0.096557</td>\n",
       "      <td>49.686451</td>\n",
       "      <td>107.457154</td>\n",
       "      <td>45.399986</td>\n",
       "      <td>33.907577</td>\n",
       "      <td>1104</td>\n",
       "    </tr>\n",
       "    <tr>\n",
       "      <th>3</th>\n",
       "      <td>Alabama A&amp;M</td>\n",
       "      <td>69.000000</td>\n",
       "      <td>30.347300</td>\n",
       "      <td>44.644500</td>\n",
       "      <td>61.384600</td>\n",
       "      <td>9.137900</td>\n",
       "      <td>0.150100</td>\n",
       "      <td>56.671900</td>\n",
       "      <td>92.704000</td>\n",
       "      <td>47.413800</td>\n",
       "      <td>30.434800</td>\n",
       "      <td>1105</td>\n",
       "    </tr>\n",
       "    <tr>\n",
       "      <th>4</th>\n",
       "      <td>Alabama St</td>\n",
       "      <td>55.000000</td>\n",
       "      <td>31.690133</td>\n",
       "      <td>47.678633</td>\n",
       "      <td>63.238967</td>\n",
       "      <td>9.891233</td>\n",
       "      <td>0.101033</td>\n",
       "      <td>52.966300</td>\n",
       "      <td>97.447433</td>\n",
       "      <td>43.448533</td>\n",
       "      <td>33.516867</td>\n",
       "      <td>1106</td>\n",
       "    </tr>\n",
       "  </tbody>\n",
       "</table>\n",
       "</div>"
      ],
      "text/plain": [
       "      teamname  avg_score    avg_3pt    avg_2pt     avg_ft    avg_blk  \\\n",
       "0    Air Force  60.500000  38.995300  57.903900  73.003700   7.591700   \n",
       "1        Akron  54.000000  34.008833  48.686233  68.695567   9.945933   \n",
       "2      Alabama  70.384615  34.348588  50.447966  70.849239  10.984112   \n",
       "3  Alabama A&M  69.000000  30.347300  44.644500  61.384600   9.137900   \n",
       "4   Alabama St  55.000000  31.690133  47.678633  63.238967   9.891233   \n",
       "\n",
       "    avg_stl  avg_assrate      avg_oe    opp_2pt    opp_3pt    id  \n",
       "0  0.142800    65.432400  111.359150  49.899600  30.836200  1102  \n",
       "1  0.103500    56.494600  103.632200  44.991133  31.390967  1103  \n",
       "2  0.096557    49.686451  107.457154  45.399986  33.907577  1104  \n",
       "3  0.150100    56.671900   92.704000  47.413800  30.434800  1105  \n",
       "4  0.101033    52.966300   97.447433  43.448533  33.516867  1106  "
      ]
     },
     "execution_count": 18,
     "metadata": {},
     "output_type": "execute_result"
    }
   ],
   "source": [
    "team_info_n = pd.merge(team_info,team_ID)\n",
    "team_info = team_info_n.sort_values(by = 'teamname')\n",
    "team_info = team_info.reset_index().drop('index',axis = 1)\n",
    "team_info.head()"
   ]
  },
  {
   "cell_type": "code",
   "execution_count": 19,
   "metadata": {},
   "outputs": [],
   "source": [
    "def caldif(t1, t2):\n",
    "    team_1 = team_info[team_info.teamname == t1].drop(columns=['teamname','id']).values[0]\n",
    "    team_2 = team_info[team_info.teamname == t2].drop(columns=['teamname','id']).values[0]\n",
    "    diff = [a - b for a, b in zip(team_1, team_2)]\n",
    "    return diff"
   ]
  },
  {
   "cell_type": "code",
   "execution_count": 23,
   "metadata": {},
   "outputs": [],
   "source": [
    "X =list()\n",
    "for x,y in zip(df['team1_teamname'],df['team2_teamname']):\n",
    "    X.append(caldif(x,y))"
   ]
  },
  {
   "cell_type": "code",
   "execution_count": 24,
   "metadata": {},
   "outputs": [],
   "source": [
    "from sklearn.preprocessing import MinMaxScaler\n",
    "scaler = MinMaxScaler()"
   ]
  },
  {
   "cell_type": "code",
   "execution_count": 25,
   "metadata": {
    "scrolled": true
   },
   "outputs": [],
   "source": [
    "y = df['result']"
   ]
  },
  {
   "cell_type": "code",
   "execution_count": 30,
   "metadata": {},
   "outputs": [],
   "source": [
    "X_train, X_test, y_train, y_test = train_test_split(X,y,random_state = 0)"
   ]
  },
  {
   "cell_type": "code",
   "execution_count": 31,
   "metadata": {},
   "outputs": [],
   "source": [
    "X_train_scale = scaler.fit_transform(X_train)\n",
    "X_test_scale =scaler.fit_transform(X_test)"
   ]
  },
  {
   "cell_type": "code",
   "execution_count": 32,
   "metadata": {},
   "outputs": [
    {
     "data": {
      "text/plain": [
       "LogisticRegression(C=1.0, class_weight=None, dual=False, fit_intercept=True,\n",
       "          intercept_scaling=1, max_iter=100, multi_class='ovr', n_jobs=1,\n",
       "          penalty='l2', random_state=None, solver='liblinear', tol=0.0001,\n",
       "          verbose=0, warm_start=False)"
      ]
     },
     "execution_count": 32,
     "metadata": {},
     "output_type": "execute_result"
    }
   ],
   "source": [
    "from sklearn.linear_model import LogisticRegression\n",
    "from sklearn.model_selection import train_test_split\n",
    "lr = LogisticRegression()\n",
    "lr.fit(X_train_scale, y_train)"
   ]
  },
  {
   "cell_type": "code",
   "execution_count": 33,
   "metadata": {},
   "outputs": [],
   "source": [
    "predict = lr.predict(X_test)"
   ]
  },
  {
   "cell_type": "code",
   "execution_count": 36,
   "metadata": {},
   "outputs": [
    {
     "data": {
      "text/plain": [
       "array([[0.70717709, 0.29282291],\n",
       "       [0.63197635, 0.36802365],\n",
       "       [0.63772909, 0.36227091],\n",
       "       [0.20929902, 0.79070098],\n",
       "       [0.85671529, 0.14328471],\n",
       "       [0.47418134, 0.52581866],\n",
       "       [0.53107709, 0.46892291],\n",
       "       [0.87923409, 0.12076591],\n",
       "       [0.90095798, 0.09904202],\n",
       "       [0.5124141 , 0.4875859 ],\n",
       "       [0.37228919, 0.62771081],\n",
       "       [0.45950861, 0.54049139],\n",
       "       [0.8937098 , 0.1062902 ],\n",
       "       [0.65738351, 0.34261649],\n",
       "       [0.37398236, 0.62601764]])"
      ]
     },
     "execution_count": 36,
     "metadata": {},
     "output_type": "execute_result"
    }
   ],
   "source": [
    "lr.predict_proba(X_test_scale)[:15]"
   ]
  },
  {
   "cell_type": "code",
   "execution_count": 25,
   "metadata": {},
   "outputs": [
    {
     "data": {
      "text/plain": [
       "0.6786570743405276"
      ]
     },
     "execution_count": 25,
     "metadata": {},
     "output_type": "execute_result"
    }
   ],
   "source": [
    "lr.score(X_train_scale, y_train)"
   ]
  },
  {
   "cell_type": "code",
   "execution_count": 37,
   "metadata": {},
   "outputs": [
    {
     "name": "stdout",
     "output_type": "stream",
     "text": [
      "0.8405275779376499\n",
      "0.7338129496402878\n"
     ]
    }
   ],
   "source": [
    "#random forest\n",
    "clf = RandomForestClassifier(n_estimators=23,max_depth = 6,random_state=0).fit(X_train, y_train)\n",
    "print (clf.score(X_train, y_train))\n",
    "print (clf.score(X_test, y_test))"
   ]
  },
  {
   "cell_type": "code",
   "execution_count": 38,
   "metadata": {},
   "outputs": [
    {
     "name": "stdout",
     "output_type": "stream",
     "text": [
      "0.7446043165467626\n",
      "0.7050359712230215\n"
     ]
    }
   ],
   "source": [
    "#gradient boosted\n",
    "from sklearn.ensemble import GradientBoostingClassifier\n",
    "gb = GradientBoostingClassifier(random_state = 0, learning_rate= 0.01).fit(X_train,y_train)\n",
    "print (gb.score(X_train, y_train))\n",
    "print (gb.score(X_test, y_test))"
   ]
  },
  {
   "cell_type": "code",
   "execution_count": 39,
   "metadata": {},
   "outputs": [],
   "source": [
    "predict_2018 = pd.read_csv('example.csv')"
   ]
  },
  {
   "cell_type": "code",
   "execution_count": 40,
   "metadata": {},
   "outputs": [
    {
     "data": {
      "text/html": [
       "<div>\n",
       "<style scoped>\n",
       "    .dataframe tbody tr th:only-of-type {\n",
       "        vertical-align: middle;\n",
       "    }\n",
       "\n",
       "    .dataframe tbody tr th {\n",
       "        vertical-align: top;\n",
       "    }\n",
       "\n",
       "    .dataframe thead th {\n",
       "        text-align: right;\n",
       "    }\n",
       "</style>\n",
       "<table border=\"1\" class=\"dataframe\">\n",
       "  <thead>\n",
       "    <tr style=\"text-align: right;\">\n",
       "      <th></th>\n",
       "      <th>id</th>\n",
       "      <th>probability</th>\n",
       "    </tr>\n",
       "  </thead>\n",
       "  <tbody>\n",
       "    <tr>\n",
       "      <th>0</th>\n",
       "      <td>2017-1274-1277</td>\n",
       "      <td>0.457031</td>\n",
       "    </tr>\n",
       "    <tr>\n",
       "      <th>1</th>\n",
       "      <td>2017-1242-1277</td>\n",
       "      <td>0.962555</td>\n",
       "    </tr>\n",
       "    <tr>\n",
       "      <th>2</th>\n",
       "      <td>2017-1124-1308</td>\n",
       "      <td>0.993971</td>\n",
       "    </tr>\n",
       "    <tr>\n",
       "      <th>3</th>\n",
       "      <td>2017-1374-1425</td>\n",
       "      <td>0.420066</td>\n",
       "    </tr>\n",
       "    <tr>\n",
       "      <th>4</th>\n",
       "      <td>2017-1242-1413</td>\n",
       "      <td>0.997231</td>\n",
       "    </tr>\n",
       "  </tbody>\n",
       "</table>\n",
       "</div>"
      ],
      "text/plain": [
       "               id  probability\n",
       "0  2017-1274-1277     0.457031\n",
       "1  2017-1242-1277     0.962555\n",
       "2  2017-1124-1308     0.993971\n",
       "3  2017-1374-1425     0.420066\n",
       "4  2017-1242-1413     0.997231"
      ]
     },
     "execution_count": 40,
     "metadata": {},
     "output_type": "execute_result"
    }
   ],
   "source": [
    "predict_2018.head()"
   ]
  },
  {
   "cell_type": "code",
   "execution_count": 41,
   "metadata": {},
   "outputs": [],
   "source": [
    "def caldifid(t1, t2):\n",
    "    team_1 = team_info[team_info.id == t1].drop(columns=['teamname','id']).values[0]\n",
    "    team_2 = team_info[team_info.id == t2].drop(columns=['teamname','id']).values[0]\n",
    "    diff = [a - b for a, b in zip(team_1, team_2)]\n",
    "    return diff"
   ]
  },
  {
   "cell_type": "code",
   "execution_count": 42,
   "metadata": {},
   "outputs": [],
   "source": [
    "X_predict = list()\n",
    "for i in np.arange(len(predict_2018)):\n",
    "    matchid = predict_2018.loc[i,'id'].split('-')\n",
    "    team1 = int(matchid[1])\n",
    "    team2 = int(matchid[2])\n",
    "    n = caldifid(team1,team2)\n",
    "    X_predict.append(n)"
   ]
  },
  {
   "cell_type": "code",
   "execution_count": 43,
   "metadata": {},
   "outputs": [
    {
     "data": {
      "text/plain": [
       "array([[0.43320866, 0.56679134],\n",
       "       [0.2949711 , 0.7050289 ],\n",
       "       [0.25537604, 0.74462396],\n",
       "       [0.62916711, 0.37083289],\n",
       "       [0.14192867, 0.85807133],\n",
       "       [0.26836986, 0.73163014],\n",
       "       [0.36802574, 0.63197426],\n",
       "       [0.29975596, 0.70024404],\n",
       "       [0.18662269, 0.81337731],\n",
       "       [0.29349606, 0.70650394],\n",
       "       [0.36677291, 0.63322709],\n",
       "       [0.18225998, 0.81774002],\n",
       "       [0.41500959, 0.58499041],\n",
       "       [0.42713748, 0.57286252],\n",
       "       [0.55477324, 0.44522676]])"
      ]
     },
     "execution_count": 43,
     "metadata": {},
     "output_type": "execute_result"
    }
   ],
   "source": [
    "X_predict_scale = scaler.fit_transform(X_predict)\n",
    "prob = clf.predict_proba(X_predict)\n",
    "prob[:15]"
   ]
  },
  {
   "cell_type": "code",
   "execution_count": 44,
   "metadata": {},
   "outputs": [],
   "source": [
    "for i in np.arange(len(predict_2018)):\n",
    "    predict_2018.iloc[i,1]=prob[i][0]"
   ]
  },
  {
   "cell_type": "code",
   "execution_count": 45,
   "metadata": {},
   "outputs": [],
   "source": [
    "predict_2018.to_csv('Initial_Prediction.csv')"
   ]
  },
  {
   "cell_type": "code",
   "execution_count": null,
   "metadata": {},
   "outputs": [],
   "source": []
  }
 ],
 "metadata": {
  "kernelspec": {
   "display_name": "Python 3",
   "language": "python",
   "name": "python3"
  },
  "language_info": {
   "codemirror_mode": {
    "name": "ipython",
    "version": 3
   },
   "file_extension": ".py",
   "mimetype": "text/x-python",
   "name": "python",
   "nbconvert_exporter": "python",
   "pygments_lexer": "ipython3",
   "version": "3.6.5"
  }
 },
 "nbformat": 4,
 "nbformat_minor": 2
}
